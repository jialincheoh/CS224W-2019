{
 "cells": [
  {
   "cell_type": "code",
   "execution_count": null,
   "id": "26be6149",
   "metadata": {},
   "outputs": [],
   "source": [
    "import snap\n",
    "import numpy as np\n",
    "import matplotlib.pyplot as plt\n",
    "%matplotlib inline"
   ]
  },
  {
   "cell_type": "markdown",
   "id": "df7a05bf",
   "metadata": {},
   "source": [
    "# Question 1"
   ]
  },
  {
   "cell_type": "code",
   "execution_count": 2,
   "id": "5f8932ed",
   "metadata": {},
   "outputs": [],
   "source": [
    "# Setup\n",
    "erdosRenyi = None\n",
    "smallWorld = None\n",
    "collabNet = None\n"
   ]
  },
  {
   "cell_type": "code",
   "execution_count": 3,
   "id": "541f6b7a",
   "metadata": {},
   "outputs": [],
   "source": [
    "# Problem 1.1\n",
    "def genErdosRenyi(N=5242, E=14484):\n",
    "    \"\"\"\n",
    "    :param - N: number of nodes\n",
    "    :param - E: number of edges\n",
    "    return type: snap.PUNGraph\n",
    "    return: Erdos-Renyi graph with N nodes and E edges\n",
    "    \"\"\"\n",
    "    ############################################################################\n",
    "    Graph = snap.PUNGraph.New()\n",
    "    for i in range(N):\n",
    "        Graph.AddNode(i)\n",
    "    nums = np.arange(N * (N - 1) // 2)\n",
    "    nums = np.random.permutation(nums)\n",
    "    ram = set()\n",
    "    for idx in nums:\n",
    "        u = int(idx // N)\n",
    "        v = int(idx % N)\n",
    "        if u != v and (u, v) not in ram and (v, u) not in ram:\n",
    "            ram.add((u, v))\n",
    "            Graph.AddEdge(u, v)\n",
    "\n",
    "        if len(ram) == E:\n",
    "            break\n",
    "    ############################################################################\n",
    "    return Graph"
   ]
  },
  {
   "cell_type": "code",
   "execution_count": 4,
   "id": "331d125f",
   "metadata": {},
   "outputs": [],
   "source": [
    "def genCircle(N=5242):\n",
    "    \"\"\"\n",
    "    :param - N: number of nodes\n",
    "    return type: snap.PUNGraph\n",
    "    return: Circle graph with N nodes and N edges. Imagine the nodes form a\n",
    "        circle and each node is connected to its two direct neighbors.\n",
    "    \"\"\"\n",
    "    ############################################################################\n",
    "    Graph = snap.PUNGraph.New()\n",
    "    for i in range(N):\n",
    "        Graph.AddNode(i)\n",
    "    for i in range(N):\n",
    "        Graph.AddEdge(i, (i + 1) % N)\n",
    "\n",
    "    ############################################################################\n",
    "    return Graph"
   ]
  },
  {
   "cell_type": "code",
   "execution_count": 5,
   "id": "242cb072",
   "metadata": {},
   "outputs": [],
   "source": [
    "def connectNbrOfNbr(Graph, N=5242):\n",
    "    \"\"\"\n",
    "    :param - Graph: snap.PUNGraph object representing a circle graph on N nodes\n",
    "    :param - N: number of nodes\n",
    "    return type: snap.PUNGraph\n",
    "    return: Graph object with additional N edges added by connecting each node\n",
    "        to the neighbors of its neighbors\n",
    "    \"\"\"\n",
    "    ############################################################################\n",
    "    for i in range(N):\n",
    "        Graph.AddEdge(i, (i + 2) % N)\n",
    "    ############################################################################\n",
    "    return Graph"
   ]
  },
  {
   "cell_type": "code",
   "execution_count": 6,
   "id": "f2ecf512",
   "metadata": {},
   "outputs": [],
   "source": [
    "def connectRandomNodes(Graph, M=4000):\n",
    "    \"\"\"\n",
    "    :param - Graph: snap.PUNGraph object representing an undirected graph\n",
    "    :param - M: number of edges to be added\n",
    "    return type: snap.PUNGraph\n",
    "    return: Graph object with additional M edges added by connecting M randomly\n",
    "        selected pairs of nodes not already connected.\n",
    "    \"\"\"\n",
    "    ############################################################################\n",
    "    N = 0\n",
    "    for node in Graph.Nodes():\n",
    "        N += 1\n",
    "    nums = np.arange(N * (N - 1) / 2)\n",
    "    nums = np.random.permutation(nums)\n",
    "    ram = set()\n",
    "\n",
    "    for edge in Graph.Edges():\n",
    "        ram.add((edge.GetSrcNId(), edge.GetDstNId()))\n",
    "    M += len(ram)\n",
    "    for idx in nums:\n",
    "        u = int(idx // N)\n",
    "        v = int(idx % N)\n",
    "        if u != v and (u, v) not in ram and (v, u) not in ram:\n",
    "            ram.add((u, v))\n",
    "            Graph.AddEdge(u, v)\n",
    "        if len(ram) == M:\n",
    "            break\n",
    "\n",
    "    ############################################################################\n",
    "    return Graph"
   ]
  },
  {
   "cell_type": "code",
   "execution_count": 7,
   "id": "1d124a7b",
   "metadata": {},
   "outputs": [],
   "source": [
    "def genSmallWorld(N=5242, E=14484):\n",
    "    \"\"\"\n",
    "    :param - N: number of nodes\n",
    "    :param - E: number of edges\n",
    "    return type: snap.PUNGraph\n",
    "    return: Small-World graph with N nodes and E edges\n",
    "    \"\"\"\n",
    "    Graph = genCircle(N)\n",
    "    Graph = connectNbrOfNbr(Graph, N)\n",
    "    Graph = connectRandomNodes(Graph, 4000)\n",
    "    return Graph\n"
   ]
  },
  {
   "cell_type": "code",
   "execution_count": 8,
   "id": "3613b353",
   "metadata": {},
   "outputs": [],
   "source": [
    "def loadCollabNet(path):\n",
    "    \"\"\"\n",
    "    :param - path: path to edge list file\n",
    "    return type: snap.PUNGraph\n",
    "    return: Graph loaded from edge list at `path and self edges removed\n",
    "    Do not forget to remove the self edges!\n",
    "    \"\"\"\n",
    "    ############################################################################\n",
    "    # TODO: Your code here!\n",
    "    Graph = snap.LoadEdgeList(snap.PUNGraph, path, 0, 1)\n",
    "    for EI in Graph.Edges():\n",
    "        if EI.GetSrcNId() == EI.GetDstNId():\n",
    "            Graph.DelEdge(EI.GetSrcNId(), EI.GetDstNId())\n",
    "    ############################################################################\n",
    "    return Graph"
   ]
  },
  {
   "cell_type": "code",
   "execution_count": 10,
   "id": "ffedc754",
   "metadata": {},
   "outputs": [],
   "source": [
    "def getDataPointsToPlot(Graph):\n",
    "    \"\"\"\n",
    "    :param - Graph: snap.PUNGraph object representing an undirected graph\n",
    "    return values:\n",
    "    X: list of degrees\n",
    "    Y: list of frequencies: Y[i] = fraction of nodes with degree X[i]\n",
    "    \"\"\"\n",
    "    ############################################################################\n",
    "    # TODO: Your code here!\n",
    "    X, Y = [], []\n",
    "    max_deg = 0\n",
    "    for node in Graph.Nodes():\n",
    "        max_deg = max(max_deg, node.GetDeg() + 1)\n",
    "    X = list(range(max_deg))\n",
    "    Y = [0] * len(X)\n",
    "    for node in Graph.Nodes():\n",
    "        Y[node.GetDeg()] += 1\n",
    "    ############################################################################\n",
    "    return X, Y"
   ]
  },
  {
   "cell_type": "code",
   "execution_count": 11,
   "id": "1445562e",
   "metadata": {},
   "outputs": [
    {
     "name": "stdout",
     "output_type": "stream",
     "text": [
      "ER Graph Generation Complete:  5242 ,  14484\n",
      "Small World Graph Generation Complete:  5242 ,  14484\n",
      "CollabNet Load Complete:  5242 ,  14484\n"
     ]
    },
    {
     "data": {
      "image/png": "[encoded data removed]",
      "text/plain": [
       "<Figure size 432x288 with 1 Axes>"
      ]
     },
     "metadata": {
      "needs_background": "light"
     },
     "output_type": "display_data"
    }
   ],
   "source": [
    "def Q1_1():\n",
    "    \"\"\"\n",
    "    Code for HW1 Q1.1\n",
    "    \"\"\"\n",
    "    global erdosRenyi, smallWorld, collabNet\n",
    "    erdosRenyi = genErdosRenyi(5242, 14484)\n",
    "    print(\"ER Graph Generation Complete: \", erdosRenyi.GetNodes(), \", \", erdosRenyi.GetEdges())\n",
    "    smallWorld = genSmallWorld(5242, 14484)\n",
    "    print(\"Small World Graph Generation Complete: \", smallWorld.GetNodes(), \", \", smallWorld.GetEdges())\n",
    "    collabNet = loadCollabNet(\"CA-GrQc.txt\")\n",
    "    print(\"CollabNet Load Complete: \", collabNet.GetNodes(), \", \", collabNet.GetEdges())\n",
    "\n",
    "    x_erdosRenyi, y_erdosRenyi = getDataPointsToPlot(erdosRenyi)\n",
    "    plt.loglog(x_erdosRenyi, y_erdosRenyi, color='y', label='Erdos Renyi Network')\n",
    "\n",
    "    x_smallWorld, y_smallWorld = getDataPointsToPlot(smallWorld)\n",
    "    plt.loglog(x_smallWorld, y_smallWorld, linestyle='dashed', color='r', label='Small World Network')\n",
    "\n",
    "    x_collabNet, y_collabNet = getDataPointsToPlot(collabNet)\n",
    "    plt.loglog(x_collabNet, y_collabNet, linestyle='dotted', color='b', label='Collaboration Network')\n",
    "\n",
    "    plt.xlabel('Node Degree (log)')\n",
    "    plt.ylabel('Proportion of Nodes with a Given Degree (log)')\n",
    "    plt.title('Degree Distribution of Erdos Renyi, Small World, and Collaboration Networks')\n",
    "    plt.legend()\n",
    "    plt.show()\n",
    "\n",
    "\n",
    "# Execute code for Q1.1\n",
    "Q1_1()"
   ]
  },
  {
   "cell_type": "markdown",
   "id": "4b5bf892",
   "metadata": {},
   "source": [
    "The log-log degree distribution plot is shown as belows. We can see that\n",
    "\n",
    "• The Small World Network has the most narrow plot comparing to other two networks.\n",
    "\n",
    "• Erdos Renyi Network is more similar with Collaboration Network, which means from the\n",
    "degree distribution perspective, Erdos Renyi models the real networks better.\n",
    "\n",
    "• Compared to random graph networks, the degree distribution of Collaboration Network is\n",
    "more wider.\n",
    "\n",
    "• It has more long-tail nodes which has large degree and small degree."
   ]
  },
  {
   "cell_type": "code",
   "execution_count": 12,
   "id": "f02d27ea",
   "metadata": {},
   "outputs": [],
   "source": [
    "def calcClusteringCoefficientSingleNode(Node, Graph):\n",
    "    \"\"\"\n",
    "    :param - Node: node from snap.PUNGraph object. Graph.Nodes() will give an\n",
    "                   iterable of nodes in a graph\n",
    "    :param - Graph: snap.PUNGraph object representing an undirected graph\n",
    "    return type: float\n",
    "    returns: local clustering coeffient of Node\n",
    "    \"\"\"\n",
    "    ############################################################################\n",
    "    # TODO: Your code here!\n",
    "    C = 0.0\n",
    "    neigbors = []\n",
    "    deg = Node.GetDeg()\n",
    "    for i in range(deg):\n",
    "        neigbors.append(Graph.GetNI(Node.GetNbrNId(i)))\n",
    "    cnt_nbr = 0\n",
    "    for i in range(deg):\n",
    "        for j in range(i):\n",
    "            cnt_nbr += neigbors[i].IsInNId(neigbors[j].GetId())\n",
    "    if deg >= 2:\n",
    "        C = 2 * cnt_nbr / (deg * (deg - 1.0))\n",
    "    ############################################################################\n",
    "    return C"
   ]
  },
  {
   "cell_type": "code",
   "execution_count": 13,
   "id": "e1441bb6",
   "metadata": {},
   "outputs": [],
   "source": [
    "def calcClusteringCoefficient(Graph):\n",
    "    \"\"\"\n",
    "    :param - Graph: snap.PUNGraph object representing an undirected graph\n",
    "    return type: float\n",
    "    returns: clustering coeffient of Graph\n",
    "    \"\"\"\n",
    "    ############################################################################\n",
    "    # TODO: Your code here! If you filled out calcClusteringCoefficientSingleNode,\n",
    "    #       you'll probably want to call it in a loop here\n",
    "    C = 0.0\n",
    "    for node in Graph.Nodes():\n",
    "        C += calcClusteringCoefficientSingleNode(node, Graph)\n",
    "    C /= Graph.GetNodes()\n",
    "    ############################################################################\n",
    "    return C"
   ]
  },
  {
   "cell_type": "code",
   "execution_count": 14,
   "id": "811e1077",
   "metadata": {},
   "outputs": [
    {
     "name": "stdout",
     "output_type": "stream",
     "text": [
      "Clustering Coefficient for Erdos Renyi Network: 0.001683\n",
      "Clustering Coefficient for Small World Network: 0.297136\n",
      "Clustering Coefficient for Collaboration Network: 0.529636\n"
     ]
    }
   ],
   "source": [
    "def Q1_2():\n",
    "    \"\"\"\n",
    "    Code for Q1.2\n",
    "    \"\"\"\n",
    "    C_erdosRenyi = calcClusteringCoefficient(erdosRenyi)\n",
    "    C_smallWorld = calcClusteringCoefficient(smallWorld)\n",
    "    C_collabNet = calcClusteringCoefficient(collabNet)\n",
    "\n",
    "    print('Clustering Coefficient for Erdos Renyi Network: %f' % C_erdosRenyi)\n",
    "    print('Clustering Coefficient for Small World Network: %f' % C_smallWorld)\n",
    "    print('Clustering Coefficient for Collaboration Network: %f' % C_collabNet)\n",
    "\n",
    "\n",
    "# Execute code for Q1.2\n",
    "Q1_2()"
   ]
  },
  {
   "cell_type": "markdown",
   "id": "f7b87ad7",
   "metadata": {},
   "source": [
    "We can see that Collaboration Network has the largest average clustering coefficient.\n",
    "Since in real life, authors are likely to establish collaboration with those who have collaborated\n",
    "with their collaborators, so the local structure of this subgraph tends to be dense, which results in\n",
    "a larger average clustering coefficient."
   ]
  },
  {
   "cell_type": "code",
   "execution_count": null,
   "id": "d7b8f8cf",
   "metadata": {},
   "outputs": [],
   "source": []
  }
 ],
 "metadata": {
  "kernelspec": {
   "display_name": "Python 3",
   "language": "python",
   "name": "python3"
  },
  "language_info": {
   "codemirror_mode": {
    "name": "ipython",
    "version": 3
   },
   "file_extension": ".py",
   "mimetype": "text/x-python",
   "name": "python",
   "nbconvert_exporter": "python",
   "pygments_lexer": "ipython3",
   "version": "3.8.8"
  }
 },
 "nbformat": 4,
 "nbformat_minor": 5
}
