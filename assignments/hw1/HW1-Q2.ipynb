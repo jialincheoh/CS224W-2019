{
 "cells": [
  {
   "cell_type": "code",
   "execution_count": 1,
   "id": "d35d1257",
   "metadata": {},
   "outputs": [],
   "source": [
    "import snap\n",
    "import numpy as np\n",
    "import matplotlib.pyplot as plt\n",
    "%matplotlib inline"
   ]
  },
  {
   "cell_type": "code",
   "execution_count": 2,
   "id": "de4cd391",
   "metadata": {},
   "outputs": [],
   "source": [
    "def load_graph_weights(path=\"hw1-q2.graph\"):\n",
    "\n",
    "    g = snap.TUNGraph.Load(snap.TFIn(path))\n",
    "\n",
    "    return g\n",
    "\n",
    "\n",
    "def extract_basic_feature(node, graph):\n",
    "    \"\"\"\n",
    "    Calculate three basic features for input node v\n",
    "    1. degree of v\n",
    "    2. number of edges in the egonet of node v\n",
    "       here we have to iterate every node\n",
    "    3. number of edges enter or leaving the egonet of node v\n",
    "       here it's a undirected and unweighted graph, so we \n",
    "       can simplely count it with (tot_edges-inner_edges)\n",
    "    Note that inner_edges and double edges \n",
    "    count every inner edge twice\n",
    "    \"\"\"\n",
    "    \n",
    "    v = [node.GetDeg()]\n",
    "    tot_edges = v[0]\n",
    "    nbrs = set([node.GetId()])\n",
    "    for i in range(v[0]):\n",
    "        cur_nbr = graph.GetNI(node.GetNbrNId(i))\n",
    "        nbrs.add(cur_nbr.GetId())\n",
    "        tot_edges += cur_nbr.GetDeg()\n",
    "    \n",
    "    inner_edges = v[0]\n",
    "    for i in range(v[0]):\n",
    "        cur_nbr = graph.GetNI(node.GetNbrNId(i))\n",
    "        cur_nbr_deg = cur_nbr.GetDeg()\n",
    "        for j in range(cur_nbr_deg):\n",
    "            inner_edges += cur_nbr.GetNbrNId(j) in nbrs\n",
    "     \n",
    "    v.append(inner_edges//2)\n",
    "    v.append(tot_edges - inner_edges)\n",
    "\n",
    "    return np.array(v)"
   ]
  },
  {
   "cell_type": "code",
   "execution_count": 3,
   "id": "95785eb9",
   "metadata": {},
   "outputs": [],
   "source": [
    "def cal_cos_sim(a, b):\n",
    "    if np.linalg.norm(a) == 0 or np.linalg.norm(b) == 0:\n",
    "        return 0.0\n",
    "    return np.dot(a, b) / (np.linalg.norm(a) * np.linalg.norm(b))\n",
    "\n",
    "\n",
    "def cal_initial_feature(graph):\n",
    "    v_mat = []\n",
    "    for node in graph.Nodes():\n",
    "        v_mat.append(extract_basic_feature(node, graph))\n",
    "    return np.array(v_mat)\n",
    "\n",
    "\n",
    "def aggregrate(v, graph):\n",
    "    v_ori = v.copy()\n",
    "    n, f = v.shape\n",
    "    v_mean = np.zeros(v.shape)\n",
    "    v_sum = np.zeros(v.shape)\n",
    "    for node in graph.Nodes():\n",
    "        deg = node.GetDeg()\n",
    "        for i in range(deg):\n",
    "            v_sum[node.GetId()] += v_ori[node.GetNbrNId(i)]\n",
    "        v_mean[node.GetId()] = v_sum[node.GetId()] / deg if deg != 0 else 0\n",
    "    # n x 3*f\n",
    "    return np.concatenate((v_ori, v_mean, v_sum), axis=1)\n"
   ]
  },
  {
   "cell_type": "code",
   "execution_count": 5,
   "id": "9bea7402",
   "metadata": {},
   "outputs": [
    {
     "name": "stdout",
     "output_type": "stream",
     "text": [
      "============\n",
      "Feature vector of node 9 is:  [ 6 10  1]\n",
      "Top 5 nodes at most similar to node 9 are: \n",
      "(415, 0.9996157540684272) (286, 0.996343680627828) (1054, 0.9961182380000687) (189, 0.9957906172043477) (16, 0.9952159568022304) \n",
      "============\n"
     ]
    }
   ],
   "source": [
    "def q2_1():\n",
    "    print(\"============\")\n",
    "    g = load_graph_weights()\n",
    "    v_9 = extract_basic_feature(g.GetNI(9), g)\n",
    "    # print(v_9)\n",
    "    # exit()\n",
    "    v_mat = cal_initial_feature(g)\n",
    "\n",
    "    cos_sim = [(i, cal_cos_sim(v_9, v)) for i, v in enumerate(v_mat)]\n",
    "    cos_sim.sort(key=lambda y: y[1], reverse=True)\n",
    "    print(\"Feature vector of node 9 is: \", v_9)\n",
    "    print(\"Top 5 nodes at most similar to node 9 are: \")\n",
    "    lst_sim = 1.0\n",
    "    cnt_node = 0\n",
    "    for node in cos_sim:\n",
    "        if lst_sim-node[1]<=1e-6:\n",
    "            continue\n",
    "        lst_sim = node[1]\n",
    "        print(node, end=\" \")\n",
    "        cnt_node += 1\n",
    "        if cnt_node >= 5:\n",
    "            break\n",
    "    print(\"\\n============\")\n",
    "\n",
    "\n",
    "q2_1()"
   ]
  },
  {
   "cell_type": "markdown",
   "id": "ba796d00",
   "metadata": {},
   "source": [
    "• Feature vector of node 9 is: [6, 10, 1]\n",
    "    \n",
    "• Top 5 nodes at most similar to node 9 are:\n",
    "(415, 0.9996157540684272), (286, 0.996343680627828), (1054, 0.9961182380000687), (189, 0.9957906172043477), (16, 0.9952159568022304)"
   ]
  },
  {
   "cell_type": "code",
   "execution_count": 12,
   "id": "ee1f129f",
   "metadata": {},
   "outputs": [
    {
     "name": "stdout",
     "output_type": "stream",
     "text": [
      "============\n",
      "Feature vector of node 9 is:  [  6.          10.           1.           2.5          4.33333333\n",
      "   4.          15.          26.          24.           2.5\n",
      "   4.33333333   4.           4.31944444   7.34722222   2.38888889\n",
      "  10.16666667  17.5          6.5         15.          26.\n",
      "  24.          25.91666667  44.08333333  14.33333333  61.\n",
      " 105.          39.        ]\n",
      "Top 5 nodes at most similar to node 9 are: \n",
      "(973, 0.9959848829010806) (537, 0.9946130044020558) (415, 0.993728442523926) (496, 0.9922839741918226) (24, 0.9922413199302673) \n",
      "============\n"
     ]
    }
   ],
   "source": [
    "def q2_2():\n",
    "    print(\"============\")\n",
    "    g = load_graph_weights()\n",
    "    v_mat = cal_initial_feature(g)\n",
    "    for k in range(2):\n",
    "        v_mat = aggregrate(v_mat, g)\n",
    "    v_9 = v_mat[9]\n",
    "\n",
    "    cos_sim = [(i, cal_cos_sim(v_9, v)) for i, v in enumerate(v_mat)]\n",
    "    cos_sim.sort(key=lambda y: y[1], reverse=True)\n",
    "    print(\"Feature vector of node 9 is: \", v_9)\n",
    "    print(\"Top 5 nodes at most similar to node 9 are: \")\n",
    "    lst_sim = 1.0\n",
    "    cnt_node = 0\n",
    "    for node in cos_sim:\n",
    "        if lst_sim-node[1]<=1e-6:\n",
    "            continue\n",
    "        lst_sim = node[1]\n",
    "        print(node, end=\" \")\n",
    "        cnt_node += 1\n",
    "        if cnt_node >= 5:\n",
    "            break\n",
    "    print(\"\\n============\")\n",
    "\n",
    "\n",
    "q2_2()\n"
   ]
  },
  {
   "cell_type": "markdown",
   "id": "c578f21a",
   "metadata": {},
   "source": [
    "Top 5 nodes at most similar to node 9 are:\n",
    "\n",
    "(973, 0.9959848829010806), (537, 0.9946130044020558), (415, 0.993728442523926), (496, 0.9922839741918 (24, 0.9922413199302673)\n",
    "\n",
    "• There is only one common node which is 415.\n",
    "\n",
    "• Because features generated via aggregation also consider information about the neighbors and the neighbors of neighbors, which are more expressive than basic features."
   ]
  },
  {
   "cell_type": "code",
   "execution_count": 7,
   "id": "af572593",
   "metadata": {},
   "outputs": [],
   "source": [
    "def get_2_nd_subgraph(node, graph):\n",
    "\n",
    "    v = set()\n",
    "    v.add(int(node))\n",
    "    cur_v = set()\n",
    "    cur_v.add(int(node))\n",
    "\n",
    "    for k in range(2):\n",
    "        nxt_nbrs = set()\n",
    "        for u in cur_v:\n",
    "            u = graph.GetNI(u)\n",
    "            for i in range(u.GetDeg()):\n",
    "                v.add(u.GetNbrNId(i))\n",
    "                nxt_nbrs.add(u.GetNbrNId(i))\n",
    "        cur_v = nxt_nbrs.copy()\n",
    "    V = snap.TIntV()\n",
    "    for node in v:\n",
    "        V.Add(node)\n",
    "    return V"
   ]
  },
  {
   "cell_type": "code",
   "execution_count": 8,
   "id": "3f319819",
   "metadata": {},
   "outputs": [],
   "source": [
    "def find_node(lower, upper, data):\n",
    "    choice = -1\n",
    "    while True:\n",
    "        choice = np.random.randint(len(data), size=1)[0]\n",
    "        if data[choice][1] >= lower and data[choice][1] <= upper:\n",
    "            break\n",
    "    return (choice,data[choice][1])\n"
   ]
  },
  {
   "cell_type": "code",
   "execution_count": 10,
   "id": "e95a72c6",
   "metadata": {},
   "outputs": [
    {
     "name": "stdout",
     "output_type": "stream",
     "text": [
      "============\n"
     ]
    },
    {
     "data": {
      "image/png": "[encoded data removed]",
      "text/plain": [
       "<Figure size 432x288 with 1 Axes>"
      ]
     },
     "metadata": {
      "needs_background": "light"
     },
     "output_type": "display_data"
    },
    {
     "name": "stdout",
     "output_type": "stream",
     "text": [
      "============\n"
     ]
    }
   ],
   "source": [
    "def q2_3():\n",
    "    print(\"============\")\n",
    "    g = load_graph_weights()\n",
    "    v_mat = cal_initial_feature(g)\n",
    "    for k in range(2):\n",
    "        v_mat = aggregrate(v_mat, g)\n",
    "    v_9 = v_mat[9]\n",
    "\n",
    "    cos_sim = [(i, cal_cos_sim(v_9, v)) for i, v in enumerate(v_mat)]\n",
    "    cos_sim.sort(key=lambda y: y[1], reverse=True)\n",
    "    cos_sims = [u[1] for u in cos_sim]\n",
    "    plt.hist(cos_sims, bins=20)\n",
    "    plt.title(\"distribution of cosine similarity\")\n",
    "    plt.show()\n",
    "\n",
    "    node_1, sim_1 = find_node(0, 0.05, cos_sim)\n",
    "    subg_1 = get_2_nd_subgraph(node_1, g)\n",
    "    subg_1_h = snap.TIntStrH()\n",
    "    subg_1_h[node_1] = \"blue\"\n",
    "    subg_1 = snap.ConvertSubGraph(snap.PUNGraph, g, subg_1)\n",
    "    snap.DrawGViz(subg_1, snap.gvlNeato, \"subgraph_1.png\", \"subgraph 1 sim: {0}\".format(round(sim_1,2)), True, subg_1_h)\n",
    "\n",
    "\n",
    "    node_2 = 9#find_node(0.4, 0.45, cos_sim)\n",
    "    subg_2 = get_2_nd_subgraph(node_2, g)\n",
    "    subg_2_h = snap.TIntStrH()\n",
    "    subg_2_h[node_2] = \"blue\"\n",
    "    subg_2 = snap.ConvertSubGraph(snap.PUNGraph, g, subg_2)\n",
    "    snap.DrawGViz(subg_2, snap.gvlNeato, \"subgraph_center_9.png\", \"subgraph_center_9\", True, subg_2_h)\n",
    "\n",
    "    node_3, sim_3 = find_node(0.6, 0.65, cos_sim)\n",
    "    subg_3 = get_2_nd_subgraph(node_3, g)\n",
    "    subg_3_h = snap.TIntStrH()\n",
    "    subg_3_h[node_3] = \"blue\"\n",
    "    subg_3 = snap.ConvertSubGraph(snap.PUNGraph, g, subg_3)\n",
    "    snap.DrawGViz(subg_3, snap.gvlNeato, \"subgraph_3.png\", \"subgraph 3 sim: {0}\".format(round(sim_3,2)), True, subg_3_h)\n",
    "\n",
    "    node_4, sim_4 = find_node(0.9, 0.95, cos_sim)\n",
    "    subg_4 = get_2_nd_subgraph(node_4, g)\n",
    "    subg_4_h = snap.TIntStrH()\n",
    "    subg_4_h[node_4] = \"blue\"\n",
    "    subg_4 = snap.ConvertSubGraph(snap.PUNGraph, g, subg_4)\n",
    "    snap.DrawGViz(subg_4, snap.gvlNeato, \"subgraph_4.png\", \"subgraph 4 sim: {0}\".format(round(sim_4,2)), True, subg_4_h)\n",
    "\n",
    "    print(\"============\")\n",
    "q2_3()"
   ]
  },
  {
   "cell_type": "markdown",
   "id": "1446d10f",
   "metadata": {},
   "source": [
    "From the picture we can observe 3 groups/roles."
   ]
  },
  {
   "cell_type": "markdown",
   "id": "d458cfff",
   "metadata": {},
   "source": [
    "Randomly select a point for each group and draw the subgraph of its 2nd neighbors as below: Note that Subgraph 1, Subgraph 3, Subgraph 4 are the three corresponding samples and the 2-nd figure is the 2-nd neighbor sampling for node 9. We can see that as closer to the neighbor distribution of node 9, the similarity score will be higher."
   ]
  },
  {
   "cell_type": "code",
   "execution_count": null,
   "id": "f3a84200",
   "metadata": {},
   "outputs": [],
   "source": []
  }
 ],
 "metadata": {
  "kernelspec": {
   "display_name": "Python 3",
   "language": "python",
   "name": "python3"
  },
  "language_info": {
   "codemirror_mode": {
    "name": "ipython",
    "version": 3
   },
   "file_extension": ".py",
   "mimetype": "text/x-python",
   "name": "python",
   "nbconvert_exporter": "python",
   "pygments_lexer": "ipython3",
   "version": "3.8.8"
  }
 },
 "nbformat": 4,
 "nbformat_minor": 5
}
