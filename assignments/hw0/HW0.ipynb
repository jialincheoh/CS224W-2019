{
 "cells": [
  {
   "cell_type": "code",
   "execution_count": 5,
   "id": "d0d950c3",
   "metadata": {},
   "outputs": [],
   "source": [
    "import snap\n",
    "import collections\n",
    "import numpy as np\n",
    "import matplotlib\n",
    "import matplotlib.pyplot as plt\n",
    "%matplotlib inline"
   ]
  },
  {
   "cell_type": "code",
   "execution_count": 6,
   "id": "1c2117bd",
   "metadata": {},
   "outputs": [
    {
     "name": "stdout",
     "output_type": "stream",
     "text": [
      "node  7115\n",
      "self edge  0\n",
      "directed edge  103689\n",
      "undirected edge  100762\n",
      "reciprocated edge  2927\n",
      "zero out node  1005\n",
      "zero in node  4734\n",
      "ten out node  1612\n",
      "ten in node  5165\n"
     ]
    }
   ],
   "source": [
    "def q1():\n",
    "    G = snap.LoadEdgeList(snap.PNGraph, \"wiki-Vote.txt\", 0, 1)\n",
    "\n",
    "    cnt_node = 0\n",
    "    cnt_self_edge = 0\n",
    "    cnt_directed_edge = 0\n",
    "    uedge = set()\n",
    "    cnt_undirected_edge = 0\n",
    "    reciedge = set()\n",
    "    cnt_reciprocated_edge = 0\n",
    "    cnt_zero_outd = 0\n",
    "    cnt_zero_ind = 0\n",
    "    cnt_ten_outd = 0\n",
    "    cnt_ten_ind = 0\n",
    "\n",
    "    for u in G.Nodes():\n",
    "        cnt_node += 1\n",
    "        for v in u.GetOutEdges():\n",
    "            if v == u.GetId():\n",
    "                cnt_self_edge += 1\n",
    "            else:\n",
    "                cnt_directed_edge += 1\n",
    "                if (u.GetId(), v) not in uedge and (v, u.GetId()) not in uedge:\n",
    "                    uedge.add((u.GetId(), v))\n",
    "                    cnt_undirected_edge += 1\n",
    "                reciedge.add((u.GetId(), v))\n",
    "                if (v, u.GetId()) in reciedge:\n",
    "                    cnt_reciprocated_edge += 1\n",
    "        if u.GetInDeg() == 0:\n",
    "            cnt_zero_ind += 1\n",
    "        if u.GetInDeg() < 10:\n",
    "            cnt_ten_ind += 1\n",
    "        if u.GetOutDeg() == 0:\n",
    "            cnt_zero_outd += 1\n",
    "        if u.GetOutDeg() > 10:\n",
    "            cnt_ten_outd += 1\n",
    "\n",
    "    print(\"node \", cnt_node)\n",
    "    print(\"self edge \", cnt_self_edge)\n",
    "    print(\"directed edge \", cnt_directed_edge)\n",
    "    print(\"undirected edge \", cnt_undirected_edge)\n",
    "    print(\"reciprocated edge \", cnt_reciprocated_edge)\n",
    "    print(\"zero out node \", cnt_zero_outd)\n",
    "    print(\"zero in node \", cnt_zero_ind)\n",
    "    print(\"ten out node \", cnt_ten_outd)\n",
    "    print(\"ten in node \", cnt_ten_ind)\n",
    "    \n",
    "q1()"
   ]
  },
  {
   "cell_type": "code",
   "execution_count": 9,
   "id": "d03288e7",
   "metadata": {},
   "outputs": [
    {
     "data": {
      "image/png": "[encoded data removed]",
      "text/plain": [
       "<Figure size 432x288 with 1 Axes>"
      ]
     },
     "metadata": {
      "needs_background": "light"
     },
     "output_type": "display_data"
    },
    {
     "name": "stdout",
     "output_type": "stream",
     "text": [
      "regression:  [-1.28106471  3.1324547 ]\n"
     ]
    }
   ],
   "source": [
    "def q2():\n",
    "    G = snap.LoadEdgeList(snap.PNGraph, \"wiki-Vote.txt\", 0, 1)\n",
    "\n",
    "    stat = {}\n",
    "    for node in G.Nodes():\n",
    "        if node.GetOutDeg() != 0:\n",
    "            stat[node.GetOutDeg()] = stat.get(node.GetOutDeg(), 0) + 1\n",
    "    stat = collections.OrderedDict(sorted(stat.items(), key=lambda x: x[0]))\n",
    "    x, y = np.array(list(stat.keys()), dtype=np.float64), np.array(list(stat.values()), dtype=np.float64)\n",
    "    x, y = np.log10(x), np.log10(y)\n",
    "    plt.bar(x, y)\n",
    "    plt.plot(x, y, 'go', label='distribution')\n",
    "    plt.xlabel('node out degree (log10 scale)')\n",
    "    plt.ylabel('number of nodes (log10 scale)')\n",
    "    plt.title('node out degree distribution')\n",
    "\n",
    "    reg = np.polyfit(x, y, deg=1)\n",
    "    ry = np.polyval(reg, x)\n",
    "    plt.plot(x, ry, 'b^', label='regression')\n",
    "    plt.legend()\n",
    "    plt.show()\n",
    "    print(\"regression: \", reg)\n",
    "    \n",
    "q2()\n"
   ]
  },
  {
   "cell_type": "code",
   "execution_count": 10,
   "id": "74c4fa5b",
   "metadata": {},
   "outputs": [
    {
     "name": "stdout",
     "output_type": "stream",
     "text": [
      "Number of WCC:  10143\n",
      "Number of edges and nodes in MxWCC:  131188   322486\n",
      "IDs of top 3 PageRank scores:  [(0.013980540412209575, 992484), (0.010005538895741885, 135152), (0.007103532693128619, 22656)]\n",
      "IDs of top 3 hubs by HITS scores:  [(0.07336380373389548, 892029), (0.05955074418794487, 1194415), (0.05687564588068672, 359862)]\n",
      "IDs of top 3 authorities by HITS scores:  [(0.6047239730413133, 22656), (0.2986993488728824, 157882), (0.2839071934144654, 571407)]\n"
     ]
    }
   ],
   "source": [
    "def q3():\n",
    "    G = snap.LoadEdgeList(snap.PNGraph, \"stackoverflow-Java.txt\", 0, 1)\n",
    "\n",
    "    components = snap.TCnComV()\n",
    "    snap.GetWccs(G, components)\n",
    "    print(\"Number of WCC: \", components.Len())\n",
    "\n",
    "    MxComp = snap.GetMxWcc(G)\n",
    "    cnt_mxc_node = 0\n",
    "    cnt_mxc_edge = 0\n",
    "    for _ in MxComp.Nodes():\n",
    "        cnt_mxc_node += 1\n",
    "    for _ in MxComp.Edges():\n",
    "        cnt_mxc_edge += 1\n",
    "    print(\"Number of edges and nodes in MxWCC: \", cnt_mxc_node, ' ', cnt_mxc_edge)\n",
    "\n",
    "    PRankH = snap.TIntFltH()\n",
    "    snap.GetPageRank(G, PRankH)\n",
    "    scores = []\n",
    "    for id in PRankH:\n",
    "        scores.append((PRankH[id], id))\n",
    "    res = sorted(scores, reverse=True)[:3]\n",
    "    print(\"IDs of top 3 PageRank scores: \", res)\n",
    "\n",
    "    NIdHubH = snap.TIntFltH()\n",
    "    NIdAuthH = snap.TIntFltH()\n",
    "    snap.GetHits(G, NIdHubH, NIdAuthH)\n",
    "    scores = []\n",
    "    for id in NIdHubH:\n",
    "        scores.append((NIdHubH[id], id))\n",
    "    res = sorted(scores, reverse=True)[:3]\n",
    "    print(\"IDs of top 3 hubs by HITS scores: \", res)\n",
    "    scores = []\n",
    "    for id in NIdAuthH:\n",
    "        scores.append((NIdAuthH[id], id))\n",
    "    res = sorted(scores, reverse=True)[:3]\n",
    "    print(\"IDs of top 3 authorities by HITS scores: \", res)\n",
    "    \n",
    "q3()"
   ]
  },
  {
   "cell_type": "code",
   "execution_count": null,
   "id": "4b7ed3a5",
   "metadata": {},
   "outputs": [],
   "source": []
  }
 ],
 "metadata": {
  "kernelspec": {
   "display_name": "Python 3",
   "language": "python",
   "name": "python3"
  },
  "language_info": {
   "codemirror_mode": {
    "name": "ipython",
    "version": 3
   },
   "file_extension": ".py",
   "mimetype": "text/x-python",
   "name": "python",
   "nbconvert_exporter": "python",
   "pygments_lexer": "ipython3",
   "version": "3.8.8"
  }
 },
 "nbformat": 4,
 "nbformat_minor": 5
}
